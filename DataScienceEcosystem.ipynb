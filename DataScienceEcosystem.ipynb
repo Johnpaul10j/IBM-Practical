{
 "cells": [
  {
   "cell_type": "markdown",
   "id": "a03b200b-2694-4ce0-85d5-b9afa6d82eea",
   "metadata": {},
   "source": [
    "# Data Science Tools and Ecosystem"
   ]
  },
  {
   "cell_type": "markdown",
   "id": "c064bfbd-aed0-4a05-930f-9b993b1fcf81",
   "metadata": {},
   "source": [
    "## In this notebook, Data Science Tools and Ecosystem are summarized"
   ]
  },
  {
   "cell_type": "markdown",
   "id": "a2bce74b-b00d-49e7-a27f-56bc6e6395c5",
   "metadata": {},
   "source": [
    "## Objectives:\n",
    "\n",
    "* List of popular for Data science\n",
    "* List of commonly used libraries by Data Scientist\n",
    "* List for Data science tools\n",
    "* Arithmetic expressions in Python\n",
    "* Conversion of minutes to hours"
   ]
  },
  {
   "cell_type": "markdown",
   "id": "5cd7567c-8525-4f16-b69f-d801c9aed524",
   "metadata": {},
   "source": [
    "## Some of the popular languages that Data Scientists use are:\n",
    "\n",
    "* Python\n",
    "* R\n",
    "* Sql\n",
    "* Scala\n"
   ]
  },
  {
   "cell_type": "markdown",
   "id": "54bb74ea-c03c-45e9-809f-139577ff0ff5",
   "metadata": {},
   "source": [
    "## Some of the commonly used libraries used by Data Scientists include:\n",
    "\n",
    "- Pandas\n",
    "- Numpy\n",
    "- SciPy\n",
    "- Matplotlib"
   ]
  },
  {
   "cell_type": "markdown",
   "id": "facfe637-8157-4c88-898b-6ffe1904ffc1",
   "metadata": {},
   "source": [
    "|Data Science Tools|\n",
    "|------------------|\n",
    "|Data management tools|\n",
    "|Data Visualization tools|\n",
    "|Data intergration and transformation tools|\n",
    "|Code asset management tools|"
   ]
  },
  {
   "cell_type": "markdown",
   "id": "4da91d61-3e6b-4469-85ae-cc54834cbb60",
   "metadata": {},
   "source": [
    "## Below are a few examples of evaluating arithmetic expressions in Python"
   ]
  },
  {
   "cell_type": "code",
   "execution_count": 2,
   "id": "50568c8e-7a8f-4679-9c16-e581143af778",
   "metadata": {},
   "outputs": [
    {
     "data": {
      "text/plain": [
       "17"
      ]
     },
     "execution_count": 2,
     "metadata": {},
     "output_type": "execute_result"
    }
   ],
   "source": [
    "# This is a simple arithmetic expression to multiply then add integers.\n",
    "\n",
    "(3*4)+5"
   ]
  },
  {
   "cell_type": "code",
   "execution_count": 3,
   "id": "8a6c5253-aa9a-42f4-a190-d314da6fddd5",
   "metadata": {},
   "outputs": [
    {
     "data": {
      "text/plain": [
       "3.3333333333333335"
      ]
     },
     "execution_count": 3,
     "metadata": {},
     "output_type": "execute_result"
    }
   ],
   "source": [
    "# This will convert 200 minutes to hours by diving by 60\n",
    "\n",
    "200/60"
   ]
  },
  {
   "cell_type": "markdown",
   "id": "bff37576-57b1-4edc-bb0b-3aa6ba559018",
   "metadata": {},
   "source": [
    "## Author\n",
    "\n",
    "Umeh Johnpaul"
   ]
  },
  {
   "cell_type": "code",
   "execution_count": null,
   "id": "4f3c6983-057a-48fe-b347-4e4629ee6d6e",
   "metadata": {},
   "outputs": [],
   "source": []
  }
 ],
 "metadata": {
  "kernelspec": {
   "display_name": "Python 3 (ipykernel)",
   "language": "python",
   "name": "python3"
  },
  "language_info": {
   "codemirror_mode": {
    "name": "ipython",
    "version": 3
   },
   "file_extension": ".py",
   "mimetype": "text/x-python",
   "name": "python",
   "nbconvert_exporter": "python",
   "pygments_lexer": "ipython3",
   "version": "3.12.8"
  }
 },
 "nbformat": 4,
 "nbformat_minor": 5
}
